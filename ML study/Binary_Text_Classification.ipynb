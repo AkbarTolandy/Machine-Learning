{
  "nbformat": 4,
  "nbformat_minor": 0,
  "metadata": {
    "colab": {
      "name": "Binary Text Classification.ipynb",
      "provenance": [],
      "collapsed_sections": [],
      "authorship_tag": "ABX9TyNoLxsDrTxFtF+COavWkADN",
      "include_colab_link": true
    },
    "kernelspec": {
      "name": "python3",
      "display_name": "Python 3"
    },
    "language_info": {
      "name": "python"
    }
  },
  "cells": [
    {
      "cell_type": "markdown",
      "metadata": {
        "id": "view-in-github",
        "colab_type": "text"
      },
      "source": [
        "<a href=\"https://colab.research.google.com/github/AkbarTolandy/Machine-Learning/blob/master/Binary_Text_Classification.ipynb\" target=\"_parent\"><img src=\"https://colab.research.google.com/assets/colab-badge.svg\" alt=\"Open In Colab\"/></a>"
      ]
    },
    {
      "cell_type": "code",
      "metadata": {
        "id": "iqNAgGtrDShg"
      },
      "source": [
        "import pandas as pd\n",
        "\n",
        "# Membuat dataframe dari dataset\n",
        "df = pd.read_csv('yelp_labelled.txt', names=['sentence', 'label'], sep='\\t')"
      ],
      "execution_count": 1,
      "outputs": []
    },
    {
      "cell_type": "code",
      "metadata": {
        "colab": {
          "base_uri": "https://localhost:8080/",
          "height": 204
        },
        "id": "Qvw_15iMD_T2",
        "outputId": "bc3cc8f2-834b-411c-9347-95dd3fd4003c"
      },
      "source": [
        "# Melihat 5 sampel terakhir dari dataset\n",
        "df.tail()"
      ],
      "execution_count": 2,
      "outputs": [
        {
          "output_type": "execute_result",
          "data": {
            "text/html": [
              "<div>\n",
              "<style scoped>\n",
              "    .dataframe tbody tr th:only-of-type {\n",
              "        vertical-align: middle;\n",
              "    }\n",
              "\n",
              "    .dataframe tbody tr th {\n",
              "        vertical-align: top;\n",
              "    }\n",
              "\n",
              "    .dataframe thead th {\n",
              "        text-align: right;\n",
              "    }\n",
              "</style>\n",
              "<table border=\"1\" class=\"dataframe\">\n",
              "  <thead>\n",
              "    <tr style=\"text-align: right;\">\n",
              "      <th></th>\n",
              "      <th>sentence</th>\n",
              "      <th>label</th>\n",
              "    </tr>\n",
              "  </thead>\n",
              "  <tbody>\n",
              "    <tr>\n",
              "      <th>995</th>\n",
              "      <td>I think food should have flavor and texture an...</td>\n",
              "      <td>0</td>\n",
              "    </tr>\n",
              "    <tr>\n",
              "      <th>996</th>\n",
              "      <td>Appetite instantly gone.</td>\n",
              "      <td>0</td>\n",
              "    </tr>\n",
              "    <tr>\n",
              "      <th>997</th>\n",
              "      <td>Overall I was not impressed and would not go b...</td>\n",
              "      <td>0</td>\n",
              "    </tr>\n",
              "    <tr>\n",
              "      <th>998</th>\n",
              "      <td>The whole experience was underwhelming, and I ...</td>\n",
              "      <td>0</td>\n",
              "    </tr>\n",
              "    <tr>\n",
              "      <th>999</th>\n",
              "      <td>Then, as if I hadn't wasted enough of my life ...</td>\n",
              "      <td>0</td>\n",
              "    </tr>\n",
              "  </tbody>\n",
              "</table>\n",
              "</div>"
            ],
            "text/plain": [
              "                                              sentence  label\n",
              "995  I think food should have flavor and texture an...      0\n",
              "996                           Appetite instantly gone.      0\n",
              "997  Overall I was not impressed and would not go b...      0\n",
              "998  The whole experience was underwhelming, and I ...      0\n",
              "999  Then, as if I hadn't wasted enough of my life ...      0"
            ]
          },
          "metadata": {
            "tags": []
          },
          "execution_count": 2
        }
      ]
    },
    {
      "cell_type": "code",
      "metadata": {
        "id": "_9oyGA0gEar-"
      },
      "source": [
        "from sklearn.model_selection import train_test_split\n",
        "\n",
        "# Membagi dataset menjadi train dan test\n",
        "kalimat = df['sentence'].values\n",
        "y = df['label'].values\n",
        "kalimat_latih, kalimat_test, y_latih, y_test = train_test_split(kalimat, y, test_size=0.2)"
      ],
      "execution_count": 4,
      "outputs": []
    },
    {
      "cell_type": "code",
      "metadata": {
        "id": "hJhbLPyVFN0N"
      },
      "source": [
        "from tensorflow.keras.preprocessing.text import Tokenizer\n",
        "from tensorflow.keras.preprocessing.sequence import pad_sequences\n",
        "\n",
        "# Menggunakan fungsi tokenizer untuk data latih dan data test\n",
        "tokenizer = Tokenizer(num_words=250, oov_token='x')\n",
        "tokenizer.fit_on_texts(kalimat_latih)\n",
        "tokenizer.fit_on_texts(kalimat_test)\n",
        "\n",
        "sekuens_latih = tokenizer.texts_to_sequences(kalimat_latih)\n",
        "sekuens_test = tokenizer.texts_to_sequences(kalimat_test)\n",
        "\n",
        "padded_latih = pad_sequences(sekuens_latih)\n",
        "padded_test = pad_sequences(sekuens_test)"
      ],
      "execution_count": 5,
      "outputs": []
    },
    {
      "cell_type": "code",
      "metadata": {
        "id": "Dly-I3pUGmCT"
      },
      "source": [
        "import tensorflow as tf\n",
        "\n",
        "# Membuat layers menggunakan dimensi embedding dan GAP\n",
        "model = tf.keras.Sequential([\n",
        "    tf.keras.layers.Embedding(250, 16, input_length=20),\n",
        "    tf.keras.layers.GlobalAveragePooling1D(),\n",
        "    tf.keras.layers.Dense(24, activation='relu'),\n",
        "    tf.keras.layers.Dense(1, activation='sigmoid')\n",
        "])\n",
        "model.compile(loss='binary_crossentropy', optimizer='adam', metrics=['accuracy'])"
      ],
      "execution_count": 12,
      "outputs": []
    },
    {
      "cell_type": "code",
      "metadata": {
        "id": "xv3giJ0SSnyC"
      },
      "source": [
        "# Membuat custom callbacks\n",
        "class myCallback(tf.keras.callbacks.Callback):\n",
        "  def on_epoch_end(self, epoch, logs={}):\n",
        "    if(logs.get('accuracy')>0.8):\n",
        "      print('\\nAkurasi telah mencapai > 80%!')\n",
        "      self.model.stop_training = True\n",
        "callbacks = myCallback()"
      ],
      "execution_count": 13,
      "outputs": []
    },
    {
      "cell_type": "code",
      "metadata": {
        "colab": {
          "base_uri": "https://localhost:8080/"
        },
        "id": "BYloKjXQTaxP",
        "outputId": "47f1bd05-710a-49a1-9c7e-f70597fe6b5c"
      },
      "source": [
        "num_epochs = 30\n",
        "history = model.fit(padded_latih, y_latih, epochs=num_epochs, callbacks=[callbacks],\n",
        "                    validation_data=(padded_test, y_test), verbose=2)"
      ],
      "execution_count": 14,
      "outputs": [
        {
          "output_type": "stream",
          "text": [
            "Epoch 1/30\n",
            "WARNING:tensorflow:Model was constructed with shape (None, 20) for input KerasTensor(type_spec=TensorSpec(shape=(None, 20), dtype=tf.float32, name='embedding_1_input'), name='embedding_1_input', description=\"created by layer 'embedding_1_input'\"), but it was called on an input with incompatible shape (32, 32).\n",
            "WARNING:tensorflow:Model was constructed with shape (None, 20) for input KerasTensor(type_spec=TensorSpec(shape=(None, 20), dtype=tf.float32, name='embedding_1_input'), name='embedding_1_input', description=\"created by layer 'embedding_1_input'\"), but it was called on an input with incompatible shape (32, 32).\n",
            "WARNING:tensorflow:Model was constructed with shape (None, 20) for input KerasTensor(type_spec=TensorSpec(shape=(None, 20), dtype=tf.float32, name='embedding_1_input'), name='embedding_1_input', description=\"created by layer 'embedding_1_input'\"), but it was called on an input with incompatible shape (None, 28).\n",
            "25/25 - 1s - loss: 0.6924 - accuracy: 0.5475 - val_loss: 0.6921 - val_accuracy: 0.5200\n",
            "Epoch 2/30\n",
            "25/25 - 0s - loss: 0.6905 - accuracy: 0.5987 - val_loss: 0.6905 - val_accuracy: 0.5550\n",
            "Epoch 3/30\n",
            "25/25 - 0s - loss: 0.6884 - accuracy: 0.6263 - val_loss: 0.6874 - val_accuracy: 0.6100\n",
            "Epoch 4/30\n",
            "25/25 - 0s - loss: 0.6853 - accuracy: 0.6363 - val_loss: 0.6843 - val_accuracy: 0.6300\n",
            "Epoch 5/30\n",
            "25/25 - 0s - loss: 0.6812 - accuracy: 0.6637 - val_loss: 0.6777 - val_accuracy: 0.6650\n",
            "Epoch 6/30\n",
            "25/25 - 0s - loss: 0.6752 - accuracy: 0.6413 - val_loss: 0.6713 - val_accuracy: 0.6800\n",
            "Epoch 7/30\n",
            "25/25 - 0s - loss: 0.6667 - accuracy: 0.6837 - val_loss: 0.6626 - val_accuracy: 0.6950\n",
            "Epoch 8/30\n",
            "25/25 - 0s - loss: 0.6568 - accuracy: 0.6900 - val_loss: 0.6512 - val_accuracy: 0.7150\n",
            "Epoch 9/30\n",
            "25/25 - 0s - loss: 0.6422 - accuracy: 0.7312 - val_loss: 0.6304 - val_accuracy: 0.7300\n",
            "Epoch 10/30\n",
            "25/25 - 0s - loss: 0.6243 - accuracy: 0.7525 - val_loss: 0.6119 - val_accuracy: 0.7300\n",
            "Epoch 11/30\n",
            "25/25 - 0s - loss: 0.6046 - accuracy: 0.7387 - val_loss: 0.5984 - val_accuracy: 0.7550\n",
            "Epoch 12/30\n",
            "25/25 - 0s - loss: 0.5810 - accuracy: 0.7750 - val_loss: 0.5740 - val_accuracy: 0.7550\n",
            "Epoch 13/30\n",
            "25/25 - 0s - loss: 0.5576 - accuracy: 0.7887 - val_loss: 0.5466 - val_accuracy: 0.7750\n",
            "Epoch 14/30\n",
            "25/25 - 0s - loss: 0.5318 - accuracy: 0.8075 - val_loss: 0.5243 - val_accuracy: 0.8000\n",
            "\n",
            "Akurasi telah mencapai > 80%!\n"
          ],
          "name": "stdout"
        }
      ]
    }
  ]
}