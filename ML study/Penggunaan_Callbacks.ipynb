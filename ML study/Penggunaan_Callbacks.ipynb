{
  "nbformat": 4,
  "nbformat_minor": 0,
  "metadata": {
    "colab": {
      "name": "Penggunaan Callbacks.ipynb",
      "provenance": [],
      "collapsed_sections": [],
      "authorship_tag": "ABX9TyPuE2034IkbySbO1ypG77jt",
      "include_colab_link": true
    },
    "kernelspec": {
      "name": "python3",
      "display_name": "Python 3"
    },
    "language_info": {
      "name": "python"
    }
  },
  "cells": [
    {
      "cell_type": "markdown",
      "metadata": {
        "id": "view-in-github",
        "colab_type": "text"
      },
      "source": [
        "<a href=\"https://colab.research.google.com/github/AkbarTolandy/Machine-Learning/blob/master/Penggunaan_Callbacks.ipynb\" target=\"_parent\"><img src=\"https://colab.research.google.com/assets/colab-badge.svg\" alt=\"Open In Colab\"/></a>"
      ]
    },
    {
      "cell_type": "code",
      "metadata": {
        "id": "mzCajn6jORYa"
      },
      "source": [
        "import tensorflow as tf\n",
        "import pandas as pd\n",
        "from sklearn import preprocessing\n",
        "from sklearn.model_selection import train_test_split\n",
        "from keras.models import Sequential\n",
        "from keras.layers import Dense\n",
        "\n",
        "df = pd.read_csv('Iris.csv')\n",
        "df = df.drop(columns='Id')\n",
        "category = pd.get_dummies(df.Species)\n",
        "new_df = pd.concat([df, category], axis=1)\n",
        "new_df = new_df.drop(columns='Species')\n",
        "dataset = new_df.values\n",
        "X = dataset[:,0:4]\n",
        "y = dataset[:,4:7]\n",
        "min_max_scaler = preprocessing.MinMaxScaler()\n",
        "X_scale = min_max_scaler.fit_transform(X)\n",
        "X_train, X_test, Y_train, Y_test = train_test_split(X_scale, y, test_size=0.3)\n",
        "model = Sequential([\n",
        "                    Dense(64, activation='relu', input_shape=(4,)),\n",
        "                    Dense(64, activation='relu'),\n",
        "                    Dense(3, activation='sigmoid'),])\n",
        "model.compile(optimizer='Adam',\n",
        "              loss='categorical_crossentropy',\n",
        "              metrics=['accuracy'])"
      ],
      "execution_count": 5,
      "outputs": []
    },
    {
      "cell_type": "code",
      "metadata": {
        "id": "xv3giJ0SSnyC"
      },
      "source": [
        "# Membuat custom callbacks\n",
        "class myCallback(tf.keras.callbacks.Callback):\n",
        "  def on_epoch_end(self, epoch, logs={}):\n",
        "    if(logs.get('accuracy')>0.9):\n",
        "      print('\\nAkurasi telah mencapai > 90%!')\n",
        "      self.model.stop_training = True\n",
        "callbacks = myCallback()"
      ],
      "execution_count": 8,
      "outputs": []
    },
    {
      "cell_type": "code",
      "metadata": {
        "colab": {
          "base_uri": "https://localhost:8080/"
        },
        "id": "BYloKjXQTaxP",
        "outputId": "13187d35-f007-4391-f379-1e9a8bc94fa9"
      },
      "source": [
        "model.fit(X_train, Y_train, epochs=50, callbacks=[callbacks])"
      ],
      "execution_count": 9,
      "outputs": [
        {
          "output_type": "stream",
          "text": [
            "Epoch 1/50\n",
            "4/4 [==============================] - 0s 5ms/step - loss: 1.1036 - accuracy: 0.4762\n",
            "Epoch 2/50\n",
            "4/4 [==============================] - 0s 3ms/step - loss: 1.0653 - accuracy: 0.7238\n",
            "Epoch 3/50\n",
            "4/4 [==============================] - 0s 3ms/step - loss: 1.0334 - accuracy: 0.7143\n",
            "Epoch 4/50\n",
            "4/4 [==============================] - 0s 3ms/step - loss: 1.0003 - accuracy: 0.6762\n",
            "Epoch 5/50\n",
            "4/4 [==============================] - 0s 2ms/step - loss: 0.9665 - accuracy: 0.6762\n",
            "Epoch 6/50\n",
            "4/4 [==============================] - 0s 3ms/step - loss: 0.9335 - accuracy: 0.6762\n",
            "Epoch 7/50\n",
            "4/4 [==============================] - 0s 2ms/step - loss: 0.9003 - accuracy: 0.6762\n",
            "Epoch 8/50\n",
            "4/4 [==============================] - 0s 3ms/step - loss: 0.8645 - accuracy: 0.6762\n",
            "Epoch 9/50\n",
            "4/4 [==============================] - 0s 3ms/step - loss: 0.8268 - accuracy: 0.6762\n",
            "Epoch 10/50\n",
            "4/4 [==============================] - 0s 3ms/step - loss: 0.7892 - accuracy: 0.6762\n",
            "Epoch 11/50\n",
            "4/4 [==============================] - 0s 4ms/step - loss: 0.7502 - accuracy: 0.6762\n",
            "Epoch 12/50\n",
            "4/4 [==============================] - 0s 2ms/step - loss: 0.7143 - accuracy: 0.6762\n",
            "Epoch 13/50\n",
            "4/4 [==============================] - 0s 3ms/step - loss: 0.6784 - accuracy: 0.6762\n",
            "Epoch 14/50\n",
            "4/4 [==============================] - 0s 3ms/step - loss: 0.6435 - accuracy: 0.6857\n",
            "Epoch 15/50\n",
            "4/4 [==============================] - 0s 3ms/step - loss: 0.6106 - accuracy: 0.7048\n",
            "Epoch 16/50\n",
            "4/4 [==============================] - 0s 3ms/step - loss: 0.5804 - accuracy: 0.7333\n",
            "Epoch 17/50\n",
            "4/4 [==============================] - 0s 5ms/step - loss: 0.5541 - accuracy: 0.7333\n",
            "Epoch 18/50\n",
            "4/4 [==============================] - 0s 4ms/step - loss: 0.5272 - accuracy: 0.7333\n",
            "Epoch 19/50\n",
            "4/4 [==============================] - 0s 3ms/step - loss: 0.5062 - accuracy: 0.7238\n",
            "Epoch 20/50\n",
            "4/4 [==============================] - 0s 4ms/step - loss: 0.4871 - accuracy: 0.7143\n",
            "Epoch 21/50\n",
            "4/4 [==============================] - 0s 3ms/step - loss: 0.4702 - accuracy: 0.7333\n",
            "Epoch 22/50\n",
            "4/4 [==============================] - 0s 3ms/step - loss: 0.4561 - accuracy: 0.8476\n",
            "Epoch 23/50\n",
            "4/4 [==============================] - 0s 4ms/step - loss: 0.4439 - accuracy: 0.9143\n",
            "\n",
            "Akurasi telah mencapai > 90%!\n"
          ],
          "name": "stdout"
        },
        {
          "output_type": "execute_result",
          "data": {
            "text/plain": [
              "<keras.callbacks.History at 0x7fdd8b755650>"
            ]
          },
          "metadata": {
            "tags": []
          },
          "execution_count": 9
        }
      ]
    }
  ]
}